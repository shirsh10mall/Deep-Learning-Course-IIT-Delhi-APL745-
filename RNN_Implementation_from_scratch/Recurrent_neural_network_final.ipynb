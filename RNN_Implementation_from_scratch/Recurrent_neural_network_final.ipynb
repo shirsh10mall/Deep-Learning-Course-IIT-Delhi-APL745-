{
 "cells": [
  {
   "cell_type": "code",
   "execution_count": 1,
   "id": "c28461d9",
   "metadata": {},
   "outputs": [],
   "source": [
    "import numpy as np \n",
    "import matplotlib.pyplot as plt\n",
    "from tqdm import tqdm"
   ]
  },
  {
   "cell_type": "code",
   "execution_count": 2,
   "id": "14d22bae",
   "metadata": {},
   "outputs": [
    {
     "data": {
      "text/plain": [
       "((175, 25), (175,), (25, 25), (25,))"
      ]
     },
     "execution_count": 2,
     "metadata": {},
     "output_type": "execute_result"
    }
   ],
   "source": [
    "def dataset(size =  200, timesteps = 25):\n",
    "    x, y = [], []\n",
    "    sin_wave = np.sin(np.arange(size))\n",
    "    for step in range(sin_wave.shape[0]-timesteps):\n",
    "        x.append(sin_wave[step:step+timesteps])\n",
    "        y.append(sin_wave[step+timesteps])\n",
    "    return np.array(x).reshape(len(y),timesteps,1)[:,:,0],np.array(y).reshape(len(y),1)[:,0]\n",
    "\n",
    "x,y = dataset()\n",
    "\n",
    "x_test, y_test = dataset(300)\n",
    "x_test = x_test[250:]\n",
    "y_test = y_test[250:]\n",
    "\n",
    "x.shape, y.shape, x_test.shape, y_test.shape"
   ]
  },
  {
   "cell_type": "code",
   "execution_count": 3,
   "id": "bc8689b5",
   "metadata": {},
   "outputs": [
    {
     "name": "stderr",
     "output_type": "stream",
     "text": [
      "100%|██████████| 50/50 [00:52<00:00,  1.04s/it]\n"
     ]
    },
    {
     "data": {
      "image/png": "[encoded data removed]",
      "text/plain": [
       "<Figure size 432x288 with 1 Axes>"
      ]
     },
     "metadata": {
      "needs_background": "light"
     },
     "output_type": "display_data"
    },
    {
     "name": "stdout",
     "output_type": "stream",
     "text": [
      "Test Loss= 0.30231693555399936\n"
     ]
    }
   ],
   "source": [
    "class RNN:\n",
    "    def __init__(self, x, y, hidden_units):\n",
    "        self.x = x # shape [samples, timesteps, features]\n",
    "        self.y = y # shape [samples, outputs]\n",
    "        self.hidden_units = hidden_units\n",
    "        self.Wx = np.random.randn(hidden_units,x.shape[1]) # shape (hidden units, number of input features)\n",
    "        self.Wh = np.random.randn(hidden_units,hidden_units) # shape (hidden units, hidden units)\n",
    "        self.Wy = np.random.randn(1,hidden_units) # shape ( number of output features,hidden units)\n",
    "        \n",
    "    def cell(self, xt, ht_1):\n",
    "        ht = np.tanh( self.Wx*xt + np.matmul(self.Wh,ht_1))\n",
    "        yt = np.matmul(self.Wy,ht)\n",
    "        return ht, yt\n",
    "        \n",
    "    def forward(self, sample):\n",
    "        sample_x, sample_y = self.x[sample], self.y[sample]\n",
    "        temp = self.Wx*sample_x\n",
    "        self.ht = np.zeros(temp.shape) # first hidden state is zeros vector\n",
    "        self.hidden_states = [self.ht] # collection of hidden states for each sample\n",
    "        self.inputs = [] # collection of inputs for each sample\n",
    "        for step in range(len(sample_x)):\n",
    "            self.ht, yt = RNN.cell(self, sample_x[step],self.ht) # call cell definition to give ht, yt\n",
    "            self.inputs.append(sample_x[step].reshape(1,1))\n",
    "            self.hidden_states.append(self.ht) # use append to store all ht inside hidden_states \n",
    "        self.error = yt - sample_y # error = yt - true value of y\n",
    "        self.loss = 0.5*(self.error)**2\n",
    "        self.yt = yt\n",
    "\n",
    "    def backward(self):\n",
    "        n = 15 # number of terms present\n",
    "        dyt = self.error # dL/dyt\n",
    "        dWy = np.matmul(self.error,self.ht.T) # dL/dWy\n",
    "        dht = dyt*self.Wx # dL/dht = dL/dyt * dyt/dht ,where ht = tanh(Wx*xt + Wh*ht))\n",
    "        dWx = np.zeros(shape=(self.hidden_units,self.x.shape[1])) # inialise zeros of shape dWx\n",
    "        dWh = np.zeros(shape=(self.hidden_units,self.hidden_units)) # inialise zeros of shape dWy\n",
    "        # BPTT\n",
    "        for step in reversed(range(n)):\n",
    "            temp = dht*(1-self.ht[step]**2) # dL/dtanh = dL/dyt * dyt/dht * dht/dtanh, where dtanh = (1-ht**2) \n",
    "            dWx += temp*self.x[step] # dL/dWx = dL/dyt * dyt/dht * dht/dtanh * dtanh/dWx\n",
    "            dWh += np.matmul(temp,self.ht.T) # dL/dWh = dL/dyt * dyt/dht * dht/dtanh * dtanh/dWh\n",
    "            dht = dht[step]*(1-self.ht[step+1]**2) # dL/dht-1 = dL/dht * (1 - ht+1^2) * Whh   # updation of dht \n",
    "        \n",
    "        dWy = np.clip(dWy, -1, 1)\n",
    "        dWx = np.clip(dWx, -1, 1)\n",
    "        dWh = np.clip(dWh, -1, 1)\n",
    "        self.Wy -= self.lr * dWy\n",
    "        self.Wx -= self.lr * dWx\n",
    "        self.Wh -= self.lr * dWh\n",
    "        \n",
    "    def train(self, epochs, learning_rate):\n",
    "        self.Ovr_loss = []\n",
    "        self.print_loss = []\n",
    "        self.lr = learning_rate\n",
    "        for epoch in tqdm(range(epochs)):\n",
    "            for sample in range(self.x.shape[0]):\n",
    "                self.forward(sample)\n",
    "                self.backward()\n",
    "            self.Ovr_loss.append(np.squeeze(self.loss / self.x.shape[0]))\n",
    "            self.print_loss.append(np.sum(np.squeeze(self.loss / self.x.shape[0])))\n",
    "            self.loss = 0\n",
    "        plt.plot(self.print_loss)\n",
    "        plt.xlabel(\"Epochs\")\n",
    "        plt.ylabel(\"Training Loss\")\n",
    "        plt.show()\n",
    "            \n",
    "        \n",
    "    def test(self,x,y):\n",
    "        self.x = x\n",
    "        self.y = y\n",
    "        self.outputs = []\n",
    "        for sample in range(len(x)):\n",
    "            self.forward(sample)\n",
    "            self.outputs.append(self.yt)\n",
    "        print(\"Test Loss=\",np.mean(0.5*(self.outputs - y)**2))\n",
    "        \n",
    "        \n",
    "\n",
    "rnn = RNN(x,y,100)\n",
    "rnn.train(50,1e-2)\n",
    "rnn.test(x_test, y_test)"
   ]
  },
  {
   "cell_type": "code",
   "execution_count": null,
   "id": "b73300c2",
   "metadata": {},
   "outputs": [],
   "source": []
  },
  {
   "cell_type": "code",
   "execution_count": null,
   "id": "0e06a480",
   "metadata": {},
   "outputs": [],
   "source": []
  }
 ],
 "metadata": {
  "kernelspec": {
   "display_name": "Python 3 (ipykernel)",
   "language": "python",
   "name": "python3"
  },
  "language_info": {
   "codemirror_mode": {
    "name": "ipython",
    "version": 3
   },
   "file_extension": ".py",
   "mimetype": "text/x-python",
   "name": "python",
   "nbconvert_exporter": "python",
   "pygments_lexer": "ipython3",
   "version": "3.8.8"
  }
 },
 "nbformat": 4,
 "nbformat_minor": 5
}
